{
  "nbformat": 4,
  "nbformat_minor": 0,
  "metadata": {
    "colab": {
      "name": "Block_world.ipynb",
      "provenance": [],
      "collapsed_sections": [],
      "authorship_tag": "ABX9TyOazwP4Acfve2zpx68yP0E5",
      "include_colab_link": true
    },
    "kernelspec": {
      "name": "python3",
      "display_name": "Python 3"
    }
  },
  "cells": [
    {
      "cell_type": "markdown",
      "metadata": {
        "id": "view-in-github",
        "colab_type": "text"
      },
      "source": [
        "<a href=\"https://colab.research.google.com/github/Simreeta/Vacuum_world_problem/blob/main/Block_world.ipynb\" target=\"_parent\"><img src=\"https://colab.research.google.com/assets/colab-badge.svg\" alt=\"Open In Colab\"/></a>"
      ]
    },
    {
      "cell_type": "markdown",
      "metadata": {
        "id": "zuu-AXlo2TjG"
      },
      "source": [
        "Block world Problem\r\n"
      ]
    },
    {
      "cell_type": "markdown",
      "metadata": {
        "id": "gyidC8GaTeYQ"
      },
      "source": [
        "Problem description:\r\n",
        "\r\n",
        "*   There are two rooms.\r\n",
        "*   So the user can give the area of the room that is dirty in sq. unit area   form .\r\n",
        "*   The cost to clean every sq. unit area is 1 unit money.\r\n",
        "*   So accordingly the cost will be calculated.\r\n",
        "*   The cost of moving from one room to other is 1 unit money.\r\n",
        "*   The vacuum cleaner can move from to the other only after cleaning the entire room.\r\n",
        "\r\n",
        "\r\n",
        "\r\n",
        "\r\n",
        "\r\n"
      ]
    },
    {
      "cell_type": "code",
      "metadata": {
        "colab": {
          "base_uri": "https://localhost:8080/"
        },
        "id": "d6wSe7jcT4AV",
        "outputId": "7b7c532e-de35-42e4-b874-b941201ec97c"
      },
      "source": [
        "def vw():\r\n",
        "    goal_state = {'A': '0', 'B': '0'} # this is the final state after both the rooms are clean \r\n",
        "    cost = 0 # initializing cost as 0\r\n",
        "    location_input = input(\"Enter Location of Vacuum\") # the room where the vacuum cleaner enters\r\n",
        "    status_input = int(input(\"Enter area of \" + location_input)) # Area of the room that is dirty\r\n",
        "    status_input_complement = int(input(\"Enter area of other room\")) # Area of the other room that is dirty \r\n",
        "    print(\"Initial Location Condition\" + str(goal_state)) \r\n",
        "    if location_input == 'A':\r\n",
        "        # Location A is Dirty.\r\n",
        "        print(\"Vacuum is placed in Location A\")\r\n",
        "        if status_input != 0:\r\n",
        "            print(\"Location A is Dirty.\")\r\n",
        "            # suck the dirt  and mark it as clean\r\n",
        "            goal_state['A'] != 0\r\n",
        "            cost =cost+ status_input # cost for suck\r\n",
        "            print(\"Cost for CLEANING A \" + str(cost))\r\n",
        "            print(\"Location A has been Cleaned.\")\r\n",
        "            if status_input_complement != 0:\r\n",
        "                # if B is Dirty\r\n",
        "                print(\"Location B is Dirty.\")\r\n",
        "                print(\"Moving right to the Location B. \")\r\n",
        "                cost =cost+ status_input_complement # cost for moving right\r\n",
        "                print(\"COST for moving RIGHT\" + str(1))\r\n",
        "                # suck the dirt and mark it as clean\r\n",
        "                goal_state['B'] = 0\r\n",
        "                cost += 1 #cost for suck\r\n",
        "                print(\"COST for SUCK \" + str(cost))\r\n",
        "                print(\"Location B has been Cleaned. \")\r\n",
        "            else:\r\n",
        "                print(\"No action\" + str(cost))\r\n",
        "                # suck and mark clean\r\n",
        "                print(\"Location B is already clean.\")\r\n",
        "        if status_input == 0:\r\n",
        "            print(\"Location A is already clean \")\r\n",
        "            if status_input_complement != 0: # if B is Dirty\r\n",
        "                print(\"Location B is Dirty.\")\r\n",
        "                print(\"Moving RIGHT to the Location B. \")\r\n",
        "                cost = cost+ status_input_complement # cost for moving right\r\n",
        "                print(\"COST for moving RIGHT \" + str(1))\r\n",
        "                # suck the dirt and mark it as clean\r\n",
        "                goal_state['B'] = 0\r\n",
        "                cost += 1 # cost for suck\r\n",
        "                print(\"Cost for SUCK\" + str(cost))\r\n",
        "                print(\"Location B has been Cleaned. \")\r\n",
        "            else:\r\n",
        "                print(\"No action \" + str(cost))\r\n",
        "                print(cost)\r\n",
        "                # suck and mark clean\r\n",
        "                print(\"Location B is already clean.\")\r\n",
        "    else:\r\n",
        "        print(\"Vacuum is placed in location B\")\r\n",
        "        # Location B is Dirty.\r\n",
        "        if status_input != 0:\r\n",
        "            print(\"Location B is Dirty.\")\r\n",
        "            # suck the dirt  and mark it as clean\r\n",
        "            goal_state['B'] = 0\r\n",
        "            #cost += 1  # cost for suck\r\n",
        "            print(\"COST for CLEANING \" + str(cost))\r\n",
        "            print(\"Location B has been Cleaned.\")\r\n",
        "            if status_input_complement != 0:\r\n",
        "                # if A is Dirty\r\n",
        "                print(\"Location A is Dirty.\")\r\n",
        "                print(\"Moving LEFT to the Location A. \")\r\n",
        "                cost =cost+ status_input_complement  # cost for moving right\r\n",
        "                print(\"COST for moving LEFT\" + str(1))\r\n",
        "                # suck the dirt and mark it as clean\r\n",
        "                goal_state['A'] = 0\r\n",
        "                cost += 1  # cost for suck\r\n",
        "                print(\"COST for SUCK \" + str(cost))\r\n",
        "                print(\"Location A has been Cleaned.\")\r\n",
        "        else:\r\n",
        "            print(cost)\r\n",
        "            # suck and mark clean\r\n",
        "            print(\"Location B is already clean.\")\r\n",
        "\r\n",
        "            if status_input_complement != 0:  # if A is Dirty\r\n",
        "                print(\"Location A is Dirty.\")\r\n",
        "                print(\"Moving LEFT to the Location A. \")\r\n",
        "                cost += status_input_complement  # cost for moving right\r\n",
        "                print(\"COST for moving LEFT \" + str(1))\r\n",
        "                # suck the dirt and mark it as clean\r\n",
        "                goal_state['A'] = 0\r\n",
        "                cost += 1  # cost for suck\r\n",
        "                print(\"Cost for SUCK \" + str(cost))\r\n",
        "                print(\"Location A has been Cleaned. \")\r\n",
        "            else:\r\n",
        "                print(\"No action \" + str(cost))\r\n",
        "                # suck and mark clean\r\n",
        "                print(\"Location A is already clean.\")\r\n",
        "    # done cleaning\r\n",
        "    print(\"GOAL STATE: \")\r\n",
        "    print(goal_state)\r\n",
        "    print(\"Performance Measurement: \" + str(cost))\r\n",
        "\r\n",
        "vw()"
      ],
      "execution_count": null,
      "outputs": [
        {
          "output_type": "stream",
          "text": [
            "Enter Location of VacuumA\n",
            "Enter area of A7\n",
            "Enter area of other room8\n",
            "Initial Location Condition{'A': '0', 'B': '0'}\n",
            "Vacuum is placed in Location A\n",
            "Location A is Dirty.\n",
            "Cost for CLEANING A 7\n",
            "Location A has been Cleaned.\n",
            "Location B is Dirty.\n",
            "Moving right to the Location B. \n",
            "COST for moving RIGHT1\n",
            "COST for SUCK 16\n",
            "Location B has been Cleaned. \n",
            "GOAL STATE: \n",
            "{'A': '0', 'B': 0}\n",
            "Performance Measurement: 16\n"
          ],
          "name": "stdout"
        }
      ]
    }
  ]
}